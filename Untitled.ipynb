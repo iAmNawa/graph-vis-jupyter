{
 "cells": [
  {
   "cell_type": "code",
   "execution_count": 1,
   "metadata": {},
   "outputs": [],
   "source": [
    "import pandas as pd"
   ]
  },
  {
   "cell_type": "code",
   "execution_count": 3,
   "metadata": {},
   "outputs": [],
   "source": [
    "import ssl\n",
    "ssl._create_default_https_context = ssl._create_unverified_context"
   ]
  },
  {
   "cell_type": "code",
   "execution_count": 4,
   "metadata": {},
   "outputs": [],
   "source": [
    "df = pd.read_csv(\"https://raw.githubusercontent.com/nextstrain/ncov/fe5a7ed1f92af63d6d1d43d0307e4b2620108aaa/data/metadata.tsv\", sep = '\\t')"
   ]
  },
  {
   "cell_type": "code",
   "execution_count": 5,
   "metadata": {},
   "outputs": [],
   "source": [
    "from ipycytoscape import *"
   ]
  },
  {
   "cell_type": "code",
   "execution_count": 6,
   "metadata": {},
   "outputs": [
    {
     "data": {
      "text/plain": [
       "Index(['strain', 'virus', 'gisaid_epi_isl', 'genbank_accession', 'date',\n",
       "       'region', 'country', 'division', 'location', 'region_exposure',\n",
       "       'country_exposure', 'division_exposure', 'segment', 'length', 'host',\n",
       "       'age', 'sex', 'originating_lab', 'submitting_lab', 'authors', 'url',\n",
       "       'title', 'date_submitted'],\n",
       "      dtype='object')"
      ]
     },
     "execution_count": 6,
     "metadata": {},
     "output_type": "execute_result"
    }
   ],
   "source": [
    "df.columns"
   ]
  },
  {
   "cell_type": "code",
   "execution_count": 7,
   "metadata": {},
   "outputs": [],
   "source": [
    "cytoscapeobj = CytoscapeWidget()\n",
    "cytoscapeobj.set_tooltip_source('name')"
   ]
  },
  {
   "cell_type": "code",
   "execution_count": 8,
   "metadata": {},
   "outputs": [],
   "source": [
    "cytoscapeobj.graph.add_graph_from_df(df[:30], ['country'], ['age', 'virus'])"
   ]
  },
  {
   "cell_type": "code",
   "execution_count": 11,
   "metadata": {},
   "outputs": [
    {
     "name": "stdout",
     "output_type": "stream",
     "text": [
      "CytoscapeWidget(cytoscape_layout={'name': 'cola'}, cytoscape_style=[{'selector': 'node', 'css': {'background-color': '#11479e'}}, {'selector': 'node:parent', 'css': {'background-opacity': 0.333}}, {'selector': 'edge', 'style': {'width': 4, 'line-color': '#9dbaea'}}, {'selector': 'edge.directed', 'style': {'curve-style': 'bezier', 'target-arrow-shape': 'triangle', 'target-arrow-color': '#9dbaea'}}, {'selector': 'edge.multiple_edges', 'style': {'curve-style': 'bezier'}}], graph=Graph(edges=[], nodes=[Node(data={'id': 'parent-0', 'name': ('Algeria',)}, position={}), Node(data={'id': 'parent-1', 'name': ('Argentina',)}, position={}), Node(data={'id': 'parent-2', 'name': ('China',)}, position={}), Node(data={'id': 0, 'parent': 'parent-0', 'name': 'age: 28\\nvirus: ncov\\n'}, position={}), Node(data={'id': 1, 'parent': 'parent-0', 'name': 'age: 87\\nvirus: ncov\\n'}, position={}), Node(data={'id': 2, 'parent': 'parent-0', 'name': 'age: 41\\nvirus: ncov\\n'}, position={}), Node(data={'id': 3, 'parent': 'parent-2', 'name': 'age: 58\\nvirus: ncov\\n'}, position={}), Node(data={'id': 4, 'parent': 'parent-1', 'name': 'age: 51\\nvirus: ncov\\n'}, position={}), Node(data={'id': 5, 'parent': 'parent-1', 'name': 'age: 47\\nvirus: ncov\\n'}, position={}), Node(data={'id': 6, 'parent': 'parent-1', 'name': 'age: 73\\nvirus: ncov\\n'}, position={}), Node(data={'id': 7, 'parent': 'parent-1', 'name': 'age: 40\\nvirus: ncov\\n'}, position={}), Node(data={'id': 8, 'parent': 'parent-1', 'name': 'age: 40\\nvirus: ncov\\n'}, position={}), Node(data={'id': 9, 'parent': 'parent-1', 'name': 'age: 57\\nvirus: ncov\\n'}, position={}), Node(data={'id': 10, 'parent': 'parent-1', 'name': 'age: 30\\nvirus: ncov\\n'}, position={}), Node(data={'id': 11, 'parent': 'parent-1', 'name': 'age: 59\\nvirus: ncov\\n'}, position={}), Node(data={'id': 12, 'parent': 'parent-1', 'name': 'age: 27\\nvirus: ncov\\n'}, position={}), Node(data={'id': 13, 'parent': 'parent-1', 'name': 'age: 37\\nvirus: ncov\\n'}, position={}), Node(data={'id': 14, 'parent': 'parent-1', 'name': 'age: 32\\nvirus: ncov\\n'}, position={}), Node(data={'id': 15, 'parent': 'parent-1', 'name': 'age: 70\\nvirus: ncov\\n'}, position={}), Node(data={'id': 16, 'parent': 'parent-1', 'name': 'age: 29\\nvirus: ncov\\n'}, position={}), Node(data={'id': 17, 'parent': 'parent-1', 'name': 'age: 38\\nvirus: ncov\\n'}, position={}), Node(data={'id': 18, 'parent': 'parent-1', 'name': 'age: 34\\nvirus: ncov\\n'}, position={}), Node(data={'id': 19, 'parent': 'parent-1', 'name': 'age: 22\\nvirus: ncov\\n'}, position={}), Node(data={'id': 20, 'parent': 'parent-1', 'name': 'age: 54\\nvirus: ncov\\n'}, position={}), Node(data={'id': 21, 'parent': 'parent-1', 'name': 'age: 69\\nvirus: ncov\\n'}, position={}), Node(data={'id': 22, 'parent': 'parent-1', 'name': 'age: 34\\nvirus: ncov\\n'}, position={}), Node(data={'id': 23, 'parent': 'parent-1', 'name': 'age: 95\\nvirus: ncov\\n'}, position={}), Node(data={'id': 24, 'parent': 'parent-1', 'name': 'age: 50\\nvirus: ncov\\n'}, position={}), Node(data={'id': 25, 'parent': 'parent-1', 'name': 'age: 29\\nvirus: ncov\\n'}, position={}), Node(data={'id': 26, 'parent': 'parent-1', 'name': 'age: 27\\nvirus: ncov\\n'}, position={}), Node(data={'id': 27, 'parent': 'parent-1', 'name': 'age: 29\\nvirus: ncov\\n'}, position={}), Node(data={'id': 28, 'parent': 'parent-1', 'name': 'age: 34\\nvirus: ncov\\n'}, position={}), Node(data={'id': 29, 'parent': 'parent-1', 'name': 'age: 92\\nvirus: ncov\\n'}, position={})]), rendered_position={'renderedPosition': {'x': 100, 'y': 100}}, tooltip_source='name')\n"
     ]
    }
   ],
   "source": [
    "print(cytoscapeobj)"
   ]
  },
  {
   "cell_type": "code",
   "execution_count": null,
   "metadata": {},
   "outputs": [],
   "source": []
  }
 ],
 "metadata": {
  "kernelspec": {
   "display_name": "Python 3",
   "language": "python",
   "name": "python3"
  },
  "language_info": {
   "codemirror_mode": {
    "name": "ipython",
    "version": 3
   },
   "file_extension": ".py",
   "mimetype": "text/x-python",
   "name": "python",
   "nbconvert_exporter": "python",
   "pygments_lexer": "ipython3",
   "version": "3.8.0"
  }
 },
 "nbformat": 4,
 "nbformat_minor": 4
}
