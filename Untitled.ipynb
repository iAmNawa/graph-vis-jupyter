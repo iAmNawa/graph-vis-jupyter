{
 "cells": [
  {
   "cell_type": "code",
   "execution_count": null,
   "metadata": {},
   "outputs": [
    {
     "name": "stdout",
     "output_type": "stream",
     "text": [
      "Dash is running on http://127.0.0.1:8050/\n",
      "\n",
      " * Serving Flask app \"__main__\" (lazy loading)\n",
      " * Environment: production\n",
      "   WARNING: This is a development server. Do not use it in a production deployment.\n",
      "   Use a production WSGI server instead.\n",
      " * Debug mode: off\n"
     ]
    },
    {
     "name": "stderr",
     "output_type": "stream",
     "text": [
      " * Running on http://127.0.0.1:8050/ (Press CTRL+C to quit)\n",
      "127.0.0.1 - - [22/Jan/2021 20:34:28] \"\u001b[37mGET / HTTP/1.1\u001b[0m\" 200 -\n",
      "127.0.0.1 - - [22/Jan/2021 20:34:28] \"\u001b[37mGET /_dash-layout HTTP/1.1\u001b[0m\" 200 -\n",
      "127.0.0.1 - - [22/Jan/2021 20:34:28] \"\u001b[37mGET /_dash-dependencies HTTP/1.1\u001b[0m\" 200 -\n"
     ]
    }
   ],
   "source": [
    "import dash\n",
    "import dash_cytoscape as cyto\n",
    "import dash_html_components as html\n",
    "\n",
    "app = dash.Dash(__name__)\n",
    "\n",
    "app.layout = html.Div([\n",
    "    cyto.Cytoscape(\n",
    "        id='cytoscape-two-nodes',\n",
    "        layout={'name': 'preset'},\n",
    "        style={'width': '50%', 'height': '1000px'},\n",
    "        elements=[\n",
    "            {'data': {'id': 'one', 'label': 'Node 1'}, 'position': {'x': 0, 'y': 0}},\n",
    "            {'data': {'id': 'two', 'label': 'Node 2'}, 'position': {'x': 0, 'y': 75}},\n",
    "            {'data': {'source': 'one', 'target': 'two'}}\n",
    "        ]\n",
    "    )\n",
    "])\n",
    "\n",
    "if __name__ == '__main__':\n",
    "    app.run_server()"
   ]
  },
  {
   "cell_type": "code",
   "execution_count": 1,
   "metadata": {},
   "outputs": [
    {
     "data": {
      "application/vnd.jupyter.widget-view+json": {
       "model_id": "fd5beb1ee234454a839de17eccd4f27a",
       "version_major": 2,
       "version_minor": 0
      },
      "text/plain": [
       "CytoscapeWidget(cytoscape_layout={'name': 'cola'}, cytoscape_style=[{'selector': 'node', 'css': {'content': 'd…"
      ]
     },
     "metadata": {},
     "output_type": "display_data"
    }
   ],
   "source": [
    "import ipycytoscape\n",
    "data = {\n",
    "  'nodes': [\n",
    "      { 'data': { 'id': 'desktop', 'name': 'Cytoscape', 'href': 'http://cytoscape.org' } },\n",
    "      { 'data': { 'id': 'a', 'name': 'Grid', 'href': 'http://cytoscape.org' } },\n",
    "      { 'data': { 'id': 'b', 'name': 'Cola', 'href': 'http://cytoscape.org' } },\n",
    "      { 'data': { 'id': 'c', 'name': 'Popper', 'href': 'http://cytoscape.org' } },\n",
    "      { 'data': { 'id': 'js', 'name': 'Cytoscape.js', 'href': 'http://js.cytoscape.org' } }\n",
    "  ],\n",
    "  'edges': [\n",
    "      {'data': { 'source': 'desktop', 'target': 'js' }},\n",
    "      {'data': { 'source': 'a', 'target': 'b' }},\n",
    "      {'data': { 'source': 'a', 'target': 'c' }},\n",
    "      {'data': { 'source': 'b', 'target': 'c' }},\n",
    "      {'data': { 'source': 'js', 'target': 'b' }}\n",
    "  ]\n",
    "}\n",
    "cytoscapeobj = ipycytoscape.CytoscapeWidget()\n",
    "cytoscapeobj.graph.add_graph_from_json(data)\n",
    "cytoscapeobj.set_style([{\n",
    "  'selector': 'node',\n",
    "  'css': {\n",
    "      'content': 'data(name)',\n",
    "      'text-valign': 'center',\n",
    "      'color': 'white',\n",
    "      'text-outline-width': 2,\n",
    "      'text-outline-color': 'green',\n",
    "      'background-color': 'green'\n",
    "  }\n",
    "  },\n",
    "  {\n",
    "  'selector': ':selected',\n",
    "  'css': {\n",
    "      'background-color': 'black',\n",
    "      'line-color': 'black',\n",
    "      'target-arrow-color': 'black',\n",
    "      'source-arrow-color': 'black',\n",
    "      'text-outline-color': 'black'\n",
    "  }}\n",
    "  ])\n",
    "cytoscapeobj"
   ]
  },
  {
   "cell_type": "code",
   "execution_count": 2,
   "metadata": {},
   "outputs": [
    {
     "name": "stdout",
     "output_type": "stream",
     "text": [
      "CytoscapeWidget(cytoscape_layout={'name': 'cola'}, cytoscape_style=[{'selector': 'node', 'css': {'content': 'data(name)', 'text-valign': 'center', 'color': 'white', 'text-outline-width': 2, 'text-outline-color': 'green', 'background-color': 'green'}}, {'selector': ':selected', 'css': {'background-color': 'black', 'line-color': 'black', 'target-arrow-color': 'black', 'source-arrow-color': 'black', 'text-outline-color': 'black'}}], graph=Graph(edges=[Edge(data={'source': 'desktop', 'target': 'js'}, position={}), Edge(data={'source': 'a', 'target': 'b'}, position={}), Edge(data={'source': 'a', 'target': 'c'}, position={}), Edge(data={'source': 'b', 'target': 'c'}, position={}), Edge(data={'source': 'js', 'target': 'b'}, position={})], nodes=[Node(data={'id': 'desktop', 'name': 'Cytoscape', 'href': 'http://cytoscape.org'}, position={}), Node(data={'id': 'a', 'name': 'Grid', 'href': 'http://cytoscape.org'}, position={}), Node(data={'id': 'b', 'name': 'Cola', 'href': 'http://cytoscape.org'}, position={}), Node(data={'id': 'c', 'name': 'Popper', 'href': 'http://cytoscape.org'}, position={}), Node(data={'id': 'js', 'name': 'Cytoscape.js', 'href': 'http://js.cytoscape.org'}, position={})]), rendered_position={'renderedPosition': {'x': 100, 'y': 100}})\n"
     ]
    }
   ],
   "source": [
    "print(cytoscapeobj)"
   ]
  },
  {
   "cell_type": "code",
   "execution_count": null,
   "metadata": {},
   "outputs": [],
   "source": []
  }
 ],
 "metadata": {
  "kernelspec": {
   "display_name": "Python 3",
   "language": "python",
   "name": "python3"
  },
  "language_info": {
   "codemirror_mode": {
    "name": "ipython",
    "version": 3
   },
   "file_extension": ".py",
   "mimetype": "text/x-python",
   "name": "python",
   "nbconvert_exporter": "python",
   "pygments_lexer": "ipython3",
   "version": "3.8.0"
  }
 },
 "nbformat": 4,
 "nbformat_minor": 4
}
