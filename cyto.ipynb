{
 "cells": [
  {
   "cell_type": "code",
   "execution_count": 1,
   "metadata": {},
   "outputs": [],
   "source": [
    "import ipycytoscape"
   ]
  },
  {
   "cell_type": "code",
   "execution_count": 2,
   "metadata": {},
   "outputs": [],
   "source": [
    "import json\n",
    "with open(\"friends.json\") as fi:\n",
    "    json_file = json.load(fi)"
   ]
  },
  {
   "cell_type": "code",
   "execution_count": 3,
   "metadata": {},
   "outputs": [],
   "source": [
    "cytoscapeobj = ipycytoscape.CytoscapeWidget()\n",
    "cytoscapeobj.graph.add_graph_from_json(json_file)"
   ]
  },
  {
   "cell_type": "code",
   "execution_count": 4,
   "metadata": {},
   "outputs": [],
   "source": [
    "cytoscapeobj.set_style([{\n",
    "                            'selector': 'node',\n",
    "                            'css': {\n",
    "                                'background-color': 'red',\n",
    "                                'font-size': '20px',\n",
    "                                'label': 'data(label)'\n",
    "                            }\n",
    "                        },\n",
    "                        {\n",
    "                            'selector': '[id=\"1\"]',\n",
    "                            'css': {\n",
    "                                'background-color': 'blue',\n",
    "                                'shape': 'roundrectangle',\n",
    "                                'text-halign': 'center',\n",
    "                                'text-valign': 'center'\n",
    "                            }\n",
    "                        },\n",
    "                        {\n",
    "                            'selector': 'edge',\n",
    "                            'css': {\n",
    "                                'line-color': 'pink'\n",
    "                            }\n",
    "                        }])"
   ]
  },
  {
   "cell_type": "code",
   "execution_count": 4,
   "metadata": {},
   "outputs": [],
   "source": [
    "data = {\n",
    "  'nodes': [\n",
    "      { 'data': { 'id': 'e', 'name': 'Phone', 'href': 'http://cytoscape.org' } },\n",
    "      { 'data': { 'id': 'f', 'name': 'Phone', 'href': 'http://cytoscape.org' } },\n",
    "      { 'data': { 'id': 'a', 'name': 'Person', 'href': 'http://cytoscape.org' } },\n",
    "      { 'data': { 'id': 'b', 'name': 'Address', 'href': 'http://cytoscape.org' } },\n",
    "      { 'data': { 'id': 'c', 'name': 'Address', 'href': 'http://cytoscape.org' } },\n",
    "      { 'data': { 'id': 'd', 'name': 'Person', 'href': 'http://js.cytoscape.org' } }\n",
    "  ],\n",
    "  'edges': [\n",
    "      {'data': { 'source': 'e', 'target': 'd' }},\n",
    "      {'data': { 'source': 'a', 'target': 'b' }},\n",
    "      {'data': { 'source': 'a', 'target': 'c' }},\n",
    "      {'data': { 'source': 'd', 'target': 'b' }}\n",
    "  ]\n",
    "}\n",
    "cytoscapeobj = ipycytoscape.CytoscapeWidget()\n",
    "cytoscapeobj.graph.add_graph_from_json(data)\n",
    "cytoscapeobj.set_style([{\n",
    "  'selector': 'node',\n",
    "  'css': {\n",
    "      'content': 'data(name)',\n",
    "      'text-valign': 'center',\n",
    "      'color': 'white',\n",
    "      'text-outline-width': 2,\n",
    "      'text-outline-color': 'green',\n",
    "      'background-color': 'green'\n",
    "  }\n",
    "  },\n",
    "  {\n",
    "  'selector': '[id=\"b\"]',\n",
    "  'css': {\n",
    "      'content': 'data(name)',\n",
    "      'text-valign': 'center',\n",
    "      'color': 'white',\n",
    "      'text-outline-width': 2,\n",
    "      'text-outline-color': 'orange',\n",
    "      'background-color': 'orange'\n",
    "  }\n",
    "  },\n",
    "  {\n",
    "  'selector': '[id=\"c\"]',\n",
    "  'css': {\n",
    "      'content': 'data(name)',\n",
    "      'text-valign': 'center',\n",
    "      'color': 'white',\n",
    "      'text-outline-width': 2,\n",
    "      'text-outline-color': 'orange',\n",
    "      'background-color': 'orange'\n",
    "  }\n",
    "  },\n",
    "  {\n",
    "  'selector': '[id=\"d\"]',\n",
    "  'css': {\n",
    "      'content': 'data(name)',\n",
    "      'text-valign': 'center',\n",
    "      'color': 'white',\n",
    "      'text-outline-width': 2,\n",
    "      'text-outline-color': 'red',\n",
    "      'background-color': 'red'\n",
    "  }\n",
    "  },\n",
    "  {\n",
    "  'selector': '[id=\"a\"]',\n",
    "  'css': {\n",
    "      'content': 'data(name)',\n",
    "      'text-valign': 'center',\n",
    "      'color': 'white',\n",
    "      'text-outline-width': 2,\n",
    "      'text-outline-color': 'red',\n",
    "      'background-color': 'red'\n",
    "  }\n",
    "  },\n",
    "  {\n",
    "  'selector': ':selected',\n",
    "  'css': {\n",
    "      'background-color': 'black',\n",
    "      'line-color': 'black',\n",
    "      'target-arrow-color': 'black',\n",
    "      'source-arrow-color': 'black',\n",
    "      'text-outline-color': 'black'\n",
    "  }}\n",
    "  ])"
   ]
  },
  {
   "cell_type": "code",
   "execution_count": 5,
   "metadata": {},
   "outputs": [
    {
     "data": {
      "application/vnd.jupyter.widget-view+json": {
       "model_id": "0e3d6c31b7634a8cb0b2739a8de135c8",
       "version_major": 2,
       "version_minor": 0
      },
      "text/plain": [
       "CytoscapeWidget(cytoscape_layout={'name': 'cola'}, cytoscape_style=[{'selector': 'node', 'css': {'content': 'd…"
      ]
     },
     "metadata": {},
     "output_type": "display_data"
    }
   ],
   "source": [
    "cytoscapeobj"
   ]
  },
  {
   "cell_type": "code",
   "execution_count": null,
   "metadata": {},
   "outputs": [],
   "source": []
  }
 ],
 "metadata": {
  "kernelspec": {
   "display_name": "Python 3",
   "language": "python",
   "name": "python3"
  },
  "language_info": {
   "codemirror_mode": {
    "name": "ipython",
    "version": 3
   },
   "file_extension": ".py",
   "mimetype": "text/x-python",
   "name": "python",
   "nbconvert_exporter": "python",
   "pygments_lexer": "ipython3",
   "version": "3.8.0"
  }
 },
 "nbformat": 4,
 "nbformat_minor": 4
}
